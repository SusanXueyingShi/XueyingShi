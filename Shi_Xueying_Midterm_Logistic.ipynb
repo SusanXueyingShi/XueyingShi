{
 "cells": [
  {
   "cell_type": "code",
   "execution_count": 2,
   "metadata": {
    "collapsed": true
   },
   "outputs": [],
   "source": [
    "import pandas as pd\n",
    "import numpy as np\n",
    "import matplotlib.pyplot as plt\n",
    "import seaborn as sns\n",
    "%matplotlib inline"
   ]
  },
  {
   "cell_type": "code",
   "execution_count": 83,
   "metadata": {},
   "outputs": [],
   "source": [
    "churn = pd.read_csv('WA_Fn-UseC_-Telco-Customer-Churn.csv')"
   ]
  },
  {
   "cell_type": "code",
   "execution_count": 66,
   "metadata": {},
   "outputs": [
    {
     "name": "stdout",
     "output_type": "stream",
     "text": [
      "<class 'pandas.core.frame.DataFrame'>\n",
      "RangeIndex: 7043 entries, 0 to 7042\n",
      "Data columns (total 21 columns):\n",
      "customerID          7043 non-null object\n",
      "gender              7043 non-null object\n",
      "SeniorCitizen       7043 non-null int64\n",
      "Partner             7043 non-null object\n",
      "Dependents          7043 non-null object\n",
      "tenure              7043 non-null int64\n",
      "PhoneService        7043 non-null object\n",
      "MultipleLines       7043 non-null object\n",
      "InternetService     7043 non-null object\n",
      "OnlineSecurity      7043 non-null object\n",
      "OnlineBackup        7043 non-null object\n",
      "DeviceProtection    7043 non-null object\n",
      "TechSupport         7043 non-null object\n",
      "StreamingTV         7043 non-null object\n",
      "StreamingMovies     7043 non-null object\n",
      "Contract            7043 non-null object\n",
      "PaperlessBilling    7043 non-null object\n",
      "PaymentMethod       7043 non-null object\n",
      "MonthlyCharges      7043 non-null float64\n",
      "TotalCharges        7043 non-null object\n",
      "Churn               7043 non-null object\n",
      "dtypes: float64(1), int64(2), object(18)\n",
      "memory usage: 1.1+ MB\n"
     ]
    }
   ],
   "source": [
    "churn.info()"
   ]
  },
  {
   "cell_type": "code",
   "execution_count": 84,
   "metadata": {},
   "outputs": [],
   "source": [
    "#Contract = pd.get_dummies(churn['Contract'],drop_first=True)\n",
    "churn = pd.get_dummies(churn, columns=['Contract'])\n",
    "#churn = pd.concat([churn,Contract],axis=1)"
   ]
  },
  {
   "cell_type": "code",
   "execution_count": 71,
   "metadata": {},
   "outputs": [
    {
     "name": "stdout",
     "output_type": "stream",
     "text": [
      "<class 'pandas.core.frame.DataFrame'>\n",
      "Int64Index: 7043 entries, 0 to 7042\n",
      "Data columns (total 23 columns):\n",
      "customerID                 7043 non-null object\n",
      "gender                     7043 non-null object\n",
      "SeniorCitizen              7043 non-null int64\n",
      "Partner                    7043 non-null object\n",
      "Dependents                 7043 non-null object\n",
      "tenure                     7043 non-null int64\n",
      "PhoneService               7043 non-null object\n",
      "MultipleLines              7043 non-null object\n",
      "InternetService            7043 non-null object\n",
      "OnlineSecurity             7043 non-null object\n",
      "OnlineBackup               7043 non-null object\n",
      "DeviceProtection           7043 non-null object\n",
      "TechSupport                7043 non-null object\n",
      "StreamingTV                7043 non-null object\n",
      "StreamingMovies            7043 non-null object\n",
      "PaperlessBilling           7043 non-null object\n",
      "PaymentMethod              7043 non-null object\n",
      "MonthlyCharges             7043 non-null float64\n",
      "TotalCharges               7043 non-null object\n",
      "Churn                      7043 non-null object\n",
      "Contract_Month-to-month    7043 non-null uint8\n",
      "Contract_One year          7043 non-null uint8\n",
      "Contract_Two year          7043 non-null uint8\n",
      "dtypes: float64(1), int64(2), object(17), uint8(3)\n",
      "memory usage: 1.1+ MB\n"
     ]
    }
   ],
   "source": [
    "churn.info()"
   ]
  },
  {
   "cell_type": "code",
   "execution_count": 72,
   "metadata": {},
   "outputs": [
    {
     "data": {
      "text/plain": [
       "<matplotlib.axes._subplots.AxesSubplot at 0x109c077b8>"
      ]
     },
     "execution_count": 72,
     "metadata": {},
     "output_type": "execute_result"
    },
    {
     "data": {
      "image/png": "[encoded data removed]",
      "text/plain": [
       "<matplotlib.figure.Figure at 0x109a8eb00>"
      ]
     },
     "metadata": {},
     "output_type": "display_data"
    }
   ],
   "source": [
    "#Check if there is any missing data\n",
    "sns.heatmap(churn.isnull(),yticklabels=False,cbar=False)"
   ]
  },
  {
   "cell_type": "code",
   "execution_count": 85,
   "metadata": {
    "collapsed": true
   },
   "outputs": [],
   "source": [
    "mlines = []\n",
    "for i in churn['MultipleLines']:\n",
    "    if i =='Yes':\n",
    "        mlines.append('Yes')\n",
    "    else:\n",
    "        mlines.append('No')\n",
    "churn['MultipleLines'] = mlines\n",
    "\n",
    "iservice=[]\n",
    "for i in churn['InternetService']:\n",
    "    if i =='No':\n",
    "        iservice.append('No')\n",
    "    else:\n",
    "        iservice.append('Yes')\n",
    "churn['InternetService'] = iservice\n",
    "\n",
    "osec=[]\n",
    "for i in churn['OnlineSecurity']:\n",
    "    if i =='Yes':\n",
    "        osec.append('Yes')\n",
    "    else:\n",
    "        osec.append('No')\n",
    "churn['OnlineSecurity'] = osec\n",
    "\n",
    "obac=[]\n",
    "for i in churn['OnlineBackup']:\n",
    "    if i =='Yes':\n",
    "        obac.append('Yes')\n",
    "    else:\n",
    "        obac.append('No')\n",
    "churn['OnlineBackup'] = obac\n",
    "\n",
    "\n",
    "\n",
    "dprot=[]\n",
    "for i in churn['DeviceProtection']:\n",
    "    if i =='Yes':\n",
    "        dprot.append('Yes')\n",
    "    else:\n",
    "        dprot.append('No')\n",
    "churn['DeviceProtection'] = dprot\n",
    "\n",
    "\n",
    "tsup=[]\n",
    "for i in churn['TechSupport']:\n",
    "    if i =='Yes':\n",
    "        tsup.append('Yes')\n",
    "    else:\n",
    "        tsup.append('No')\n",
    "churn['TechSupport'] = tsup\n",
    "\n",
    "strtv=[]\n",
    "for i in churn['StreamingTV']:\n",
    "    if i =='Yes':\n",
    "        strtv.append('Yes')\n",
    "    else:\n",
    "        strtv.append('No')\n",
    "churn['StreamingTV'] = strtv\n",
    "\n",
    "strmov=[]\n",
    "for i in churn['StreamingMovies']:\n",
    "    if i =='Yes':\n",
    "        strmov.append('Yes')\n",
    "    else:\n",
    "        strmov.append('No')\n",
    "churn['StreamingMovies'] = strmov\n",
    "\n"
   ]
  },
  {
   "cell_type": "code",
   "execution_count": 86,
   "metadata": {
    "collapsed": true
   },
   "outputs": [],
   "source": [
    "gender = pd.get_dummies(churn['gender'],drop_first=True)\n",
    "Churn = pd.get_dummies(churn['Churn'],drop_first=True)\n",
    "Partner = pd.get_dummies(churn['Partner'],drop_first=True)\n",
    "Dependents = pd.get_dummies(churn['Dependents'],drop_first=True)\n",
    "PhoneService = pd.get_dummies(churn['PhoneService'],drop_first=True)\n",
    "MultipleLines = pd.get_dummies(churn['MultipleLines'],drop_first=True)\n",
    "InternetService = pd.get_dummies(churn['InternetService'],drop_first=True)\n",
    "OnlineSecurity = pd.get_dummies(churn['OnlineSecurity'],drop_first=True)\n",
    "OnlineBackup = pd.get_dummies(churn['OnlineBackup'],drop_first=True)\n",
    "DeviceProtection = pd.get_dummies(churn['DeviceProtection'],drop_first=True)\n",
    "TechSupport = pd.get_dummies(churn['TechSupport'],drop_first=True)\n",
    "StreamingTV = pd.get_dummies(churn['StreamingTV'],drop_first=True)\n",
    "StreamingMovies = pd.get_dummies(churn['StreamingMovies'],drop_first=True)\n",
    "#Contract = pd.get_dummies(churn['Contract'],drop_first=True)\n"
   ]
  },
  {
   "cell_type": "code",
   "execution_count": 87,
   "metadata": {},
   "outputs": [],
   "source": [
    "#besides dummies variables, paperlessbilling and paymentmethods are also dropped bc based on my experience, I don't think they will affect customers churn decision\n",
    "#totalcharges needs to be dropped as well\n",
    "churn.drop(['TotalCharges','customerID','gender','Partner','Dependents','PhoneService','MultipleLines','InternetService','OnlineSecurity','OnlineBackup','DeviceProtection','TechSupport','StreamingTV','StreamingMovies','PaperlessBilling','PaymentMethod','Churn'],axis=1,inplace=True)\n",
    "churn = pd.concat([churn,gender,Partner,Dependents,PhoneService,MultipleLines,InternetService,OnlineSecurity,OnlineBackup,DeviceProtection,TechSupport,StreamingTV,StreamingMovies,Churn],axis=1)\n",
    "churn.columns=['SeniorCitizen','tenure','MonthlyCharges','Contract_Month-to-month','One year','Two year','gender','Partner','Dependents','PhoneService','MultipleLines','InternetService','OnlineSecurity','OnlineBackup','DeviceProtection','TechSupport','StreamingTV','StreamingMovies','Churn']"
   ]
  },
  {
   "cell_type": "code",
   "execution_count": 88,
   "metadata": {},
   "outputs": [
    {
     "name": "stdout",
     "output_type": "stream",
     "text": [
      "<class 'pandas.core.frame.DataFrame'>\n",
      "RangeIndex: 7043 entries, 0 to 7042\n",
      "Data columns (total 19 columns):\n",
      "SeniorCitizen              7043 non-null int64\n",
      "tenure                     7043 non-null int64\n",
      "MonthlyCharges             7043 non-null float64\n",
      "Contract_Month-to-month    7043 non-null uint8\n",
      "One year                   7043 non-null uint8\n",
      "Two year                   7043 non-null uint8\n",
      "gender                     7043 non-null uint8\n",
      "Partner                    7043 non-null uint8\n",
      "Dependents                 7043 non-null uint8\n",
      "PhoneService               7043 non-null uint8\n",
      "MultipleLines              7043 non-null uint8\n",
      "InternetService            7043 non-null uint8\n",
      "OnlineSecurity             7043 non-null uint8\n",
      "OnlineBackup               7043 non-null uint8\n",
      "DeviceProtection           7043 non-null uint8\n",
      "TechSupport                7043 non-null uint8\n",
      "StreamingTV                7043 non-null uint8\n",
      "StreamingMovies            7043 non-null uint8\n",
      "Churn                      7043 non-null uint8\n",
      "dtypes: float64(1), int64(2), uint8(16)\n",
      "memory usage: 275.2 KB\n"
     ]
    }
   ],
   "source": [
    "churn.info()"
   ]
  },
  {
   "cell_type": "code",
   "execution_count": 89,
   "metadata": {},
   "outputs": [
    {
     "data": {
      "text/html": [
       "<div>\n",
       "<style>\n",
       "    .dataframe thead tr:only-child th {\n",
       "        text-align: right;\n",
       "    }\n",
       "\n",
       "    .dataframe thead th {\n",
       "        text-align: left;\n",
       "    }\n",
       "\n",
       "    .dataframe tbody tr th {\n",
       "        vertical-align: top;\n",
       "    }\n",
       "</style>\n",
       "<table border=\"1\" class=\"dataframe\">\n",
       "  <thead>\n",
       "    <tr style=\"text-align: right;\">\n",
       "      <th></th>\n",
       "      <th>SeniorCitizen</th>\n",
       "      <th>tenure</th>\n",
       "      <th>MonthlyCharges</th>\n",
       "      <th>Contract_Month-to-month</th>\n",
       "      <th>One year</th>\n",
       "      <th>Two year</th>\n",
       "      <th>gender</th>\n",
       "      <th>Partner</th>\n",
       "      <th>Dependents</th>\n",
       "      <th>PhoneService</th>\n",
       "      <th>MultipleLines</th>\n",
       "      <th>InternetService</th>\n",
       "      <th>OnlineSecurity</th>\n",
       "      <th>OnlineBackup</th>\n",
       "      <th>DeviceProtection</th>\n",
       "      <th>TechSupport</th>\n",
       "      <th>StreamingTV</th>\n",
       "      <th>StreamingMovies</th>\n",
       "      <th>Churn</th>\n",
       "    </tr>\n",
       "  </thead>\n",
       "  <tbody>\n",
       "    <tr>\n",
       "      <th>0</th>\n",
       "      <td>0</td>\n",
       "      <td>1</td>\n",
       "      <td>29.85</td>\n",
       "      <td>1</td>\n",
       "      <td>0</td>\n",
       "      <td>0</td>\n",
       "      <td>0</td>\n",
       "      <td>1</td>\n",
       "      <td>0</td>\n",
       "      <td>0</td>\n",
       "      <td>0</td>\n",
       "      <td>1</td>\n",
       "      <td>0</td>\n",
       "      <td>1</td>\n",
       "      <td>0</td>\n",
       "      <td>0</td>\n",
       "      <td>0</td>\n",
       "      <td>0</td>\n",
       "      <td>0</td>\n",
       "    </tr>\n",
       "    <tr>\n",
       "      <th>1</th>\n",
       "      <td>0</td>\n",
       "      <td>34</td>\n",
       "      <td>56.95</td>\n",
       "      <td>0</td>\n",
       "      <td>1</td>\n",
       "      <td>0</td>\n",
       "      <td>1</td>\n",
       "      <td>0</td>\n",
       "      <td>0</td>\n",
       "      <td>1</td>\n",
       "      <td>0</td>\n",
       "      <td>1</td>\n",
       "      <td>1</td>\n",
       "      <td>0</td>\n",
       "      <td>1</td>\n",
       "      <td>0</td>\n",
       "      <td>0</td>\n",
       "      <td>0</td>\n",
       "      <td>0</td>\n",
       "    </tr>\n",
       "    <tr>\n",
       "      <th>2</th>\n",
       "      <td>0</td>\n",
       "      <td>2</td>\n",
       "      <td>53.85</td>\n",
       "      <td>1</td>\n",
       "      <td>0</td>\n",
       "      <td>0</td>\n",
       "      <td>1</td>\n",
       "      <td>0</td>\n",
       "      <td>0</td>\n",
       "      <td>1</td>\n",
       "      <td>0</td>\n",
       "      <td>1</td>\n",
       "      <td>1</td>\n",
       "      <td>1</td>\n",
       "      <td>0</td>\n",
       "      <td>0</td>\n",
       "      <td>0</td>\n",
       "      <td>0</td>\n",
       "      <td>1</td>\n",
       "    </tr>\n",
       "    <tr>\n",
       "      <th>3</th>\n",
       "      <td>0</td>\n",
       "      <td>45</td>\n",
       "      <td>42.30</td>\n",
       "      <td>0</td>\n",
       "      <td>1</td>\n",
       "      <td>0</td>\n",
       "      <td>1</td>\n",
       "      <td>0</td>\n",
       "      <td>0</td>\n",
       "      <td>0</td>\n",
       "      <td>0</td>\n",
       "      <td>1</td>\n",
       "      <td>1</td>\n",
       "      <td>0</td>\n",
       "      <td>1</td>\n",
       "      <td>1</td>\n",
       "      <td>0</td>\n",
       "      <td>0</td>\n",
       "      <td>0</td>\n",
       "    </tr>\n",
       "    <tr>\n",
       "      <th>4</th>\n",
       "      <td>0</td>\n",
       "      <td>2</td>\n",
       "      <td>70.70</td>\n",
       "      <td>1</td>\n",
       "      <td>0</td>\n",
       "      <td>0</td>\n",
       "      <td>0</td>\n",
       "      <td>0</td>\n",
       "      <td>0</td>\n",
       "      <td>1</td>\n",
       "      <td>0</td>\n",
       "      <td>1</td>\n",
       "      <td>0</td>\n",
       "      <td>0</td>\n",
       "      <td>0</td>\n",
       "      <td>0</td>\n",
       "      <td>0</td>\n",
       "      <td>0</td>\n",
       "      <td>1</td>\n",
       "    </tr>\n",
       "  </tbody>\n",
       "</table>\n",
       "</div>"
      ],
      "text/plain": [
       "   SeniorCitizen  tenure  MonthlyCharges  Contract_Month-to-month  One year  \\\n",
       "0              0       1           29.85                        1         0   \n",
       "1              0      34           56.95                        0         1   \n",
       "2              0       2           53.85                        1         0   \n",
       "3              0      45           42.30                        0         1   \n",
       "4              0       2           70.70                        1         0   \n",
       "\n",
       "   Two year  gender  Partner  Dependents  PhoneService  MultipleLines  \\\n",
       "0         0       0        1           0             0              0   \n",
       "1         0       1        0           0             1              0   \n",
       "2         0       1        0           0             1              0   \n",
       "3         0       1        0           0             0              0   \n",
       "4         0       0        0           0             1              0   \n",
       "\n",
       "   InternetService  OnlineSecurity  OnlineBackup  DeviceProtection  \\\n",
       "0                1               0             1                 0   \n",
       "1                1               1             0                 1   \n",
       "2                1               1             1                 0   \n",
       "3                1               1             0                 1   \n",
       "4                1               0             0                 0   \n",
       "\n",
       "   TechSupport  StreamingTV  StreamingMovies  Churn  \n",
       "0            0            0                0      0  \n",
       "1            0            0                0      0  \n",
       "2            0            0                0      1  \n",
       "3            1            0                0      0  \n",
       "4            0            0                0      1  "
      ]
     },
     "execution_count": 89,
     "metadata": {},
     "output_type": "execute_result"
    }
   ],
   "source": [
    "churn.head()"
   ]
  },
  {
   "cell_type": "code",
   "execution_count": 90,
   "metadata": {
    "collapsed": true
   },
   "outputs": [],
   "source": [
    "from sklearn.model_selection import train_test_split"
   ]
  },
  {
   "cell_type": "code",
   "execution_count": 91,
   "metadata": {
    "collapsed": true
   },
   "outputs": [],
   "source": [
    "X_train, X_test, y_train, y_test = train_test_split(churn.drop('Churn',axis=1), \n",
    "                                                    churn['Churn'], test_size=0.50, \n",
    "                                                    random_state=101)"
   ]
  },
  {
   "cell_type": "code",
   "execution_count": 92,
   "metadata": {
    "collapsed": true
   },
   "outputs": [],
   "source": [
    "from sklearn.linear_model import LogisticRegression"
   ]
  },
  {
   "cell_type": "code",
   "execution_count": 93,
   "metadata": {},
   "outputs": [
    {
     "data": {
      "text/plain": [
       "LogisticRegression(C=1.0, class_weight=None, dual=False, fit_intercept=True,\n",
       "          intercept_scaling=1, max_iter=100, multi_class='ovr', n_jobs=1,\n",
       "          penalty='l2', random_state=None, solver='liblinear', tol=0.0001,\n",
       "          verbose=0, warm_start=False)"
      ]
     },
     "execution_count": 93,
     "metadata": {},
     "output_type": "execute_result"
    }
   ],
   "source": [
    "logmodel = LogisticRegression()\n",
    "logmodel.fit(X_train,y_train)"
   ]
  },
  {
   "cell_type": "code",
   "execution_count": 94,
   "metadata": {
    "collapsed": true
   },
   "outputs": [],
   "source": [
    "predictions = logmodel.predict(X_test)"
   ]
  },
  {
   "cell_type": "markdown",
   "metadata": {},
   "source": [
    "Evaluation"
   ]
  },
  {
   "cell_type": "code",
   "execution_count": 95,
   "metadata": {
    "collapsed": true
   },
   "outputs": [],
   "source": [
    "from sklearn.metrics import classification_report"
   ]
  },
  {
   "cell_type": "code",
   "execution_count": 96,
   "metadata": {},
   "outputs": [
    {
     "name": "stdout",
     "output_type": "stream",
     "text": [
      "             precision    recall  f1-score   support\n",
      "\n",
      "          0       0.83      0.91      0.87      2563\n",
      "          1       0.67      0.51      0.58       959\n",
      "\n",
      "avg / total       0.79      0.80      0.79      3522\n",
      "\n"
     ]
    }
   ],
   "source": [
    "print(classification_report(y_test,predictions))"
   ]
  },
  {
   "cell_type": "code",
   "execution_count": 97,
   "metadata": {
    "collapsed": true
   },
   "outputs": [],
   "source": [
    "churn = pd.concat([churn,gender,Partner,Dependents,PhoneService],axis=1)"
   ]
  },
  {
   "cell_type": "code",
   "execution_count": 98,
   "metadata": {},
   "outputs": [
    {
     "data": {
      "text/html": [
       "<div>\n",
       "<style>\n",
       "    .dataframe thead tr:only-child th {\n",
       "        text-align: right;\n",
       "    }\n",
       "\n",
       "    .dataframe thead th {\n",
       "        text-align: left;\n",
       "    }\n",
       "\n",
       "    .dataframe tbody tr th {\n",
       "        vertical-align: top;\n",
       "    }\n",
       "</style>\n",
       "<table border=\"1\" class=\"dataframe\">\n",
       "  <thead>\n",
       "    <tr style=\"text-align: right;\">\n",
       "      <th></th>\n",
       "      <th>SeniorCitizen</th>\n",
       "      <th>tenure</th>\n",
       "      <th>MonthlyCharges</th>\n",
       "      <th>Contract_Month-to-month</th>\n",
       "      <th>One year</th>\n",
       "      <th>Two year</th>\n",
       "      <th>gender</th>\n",
       "      <th>Partner</th>\n",
       "      <th>Dependents</th>\n",
       "      <th>PhoneService</th>\n",
       "      <th>...</th>\n",
       "      <th>OnlineBackup</th>\n",
       "      <th>DeviceProtection</th>\n",
       "      <th>TechSupport</th>\n",
       "      <th>StreamingTV</th>\n",
       "      <th>StreamingMovies</th>\n",
       "      <th>Churn</th>\n",
       "      <th>Male</th>\n",
       "      <th>Yes</th>\n",
       "      <th>Yes</th>\n",
       "      <th>Yes</th>\n",
       "    </tr>\n",
       "  </thead>\n",
       "  <tbody>\n",
       "    <tr>\n",
       "      <th>0</th>\n",
       "      <td>0</td>\n",
       "      <td>1</td>\n",
       "      <td>29.85</td>\n",
       "      <td>1</td>\n",
       "      <td>0</td>\n",
       "      <td>0</td>\n",
       "      <td>0</td>\n",
       "      <td>1</td>\n",
       "      <td>0</td>\n",
       "      <td>0</td>\n",
       "      <td>...</td>\n",
       "      <td>1</td>\n",
       "      <td>0</td>\n",
       "      <td>0</td>\n",
       "      <td>0</td>\n",
       "      <td>0</td>\n",
       "      <td>0</td>\n",
       "      <td>0</td>\n",
       "      <td>1</td>\n",
       "      <td>0</td>\n",
       "      <td>0</td>\n",
       "    </tr>\n",
       "    <tr>\n",
       "      <th>1</th>\n",
       "      <td>0</td>\n",
       "      <td>34</td>\n",
       "      <td>56.95</td>\n",
       "      <td>0</td>\n",
       "      <td>1</td>\n",
       "      <td>0</td>\n",
       "      <td>1</td>\n",
       "      <td>0</td>\n",
       "      <td>0</td>\n",
       "      <td>1</td>\n",
       "      <td>...</td>\n",
       "      <td>0</td>\n",
       "      <td>1</td>\n",
       "      <td>0</td>\n",
       "      <td>0</td>\n",
       "      <td>0</td>\n",
       "      <td>0</td>\n",
       "      <td>1</td>\n",
       "      <td>0</td>\n",
       "      <td>0</td>\n",
       "      <td>1</td>\n",
       "    </tr>\n",
       "    <tr>\n",
       "      <th>2</th>\n",
       "      <td>0</td>\n",
       "      <td>2</td>\n",
       "      <td>53.85</td>\n",
       "      <td>1</td>\n",
       "      <td>0</td>\n",
       "      <td>0</td>\n",
       "      <td>1</td>\n",
       "      <td>0</td>\n",
       "      <td>0</td>\n",
       "      <td>1</td>\n",
       "      <td>...</td>\n",
       "      <td>1</td>\n",
       "      <td>0</td>\n",
       "      <td>0</td>\n",
       "      <td>0</td>\n",
       "      <td>0</td>\n",
       "      <td>1</td>\n",
       "      <td>1</td>\n",
       "      <td>0</td>\n",
       "      <td>0</td>\n",
       "      <td>1</td>\n",
       "    </tr>\n",
       "    <tr>\n",
       "      <th>3</th>\n",
       "      <td>0</td>\n",
       "      <td>45</td>\n",
       "      <td>42.30</td>\n",
       "      <td>0</td>\n",
       "      <td>1</td>\n",
       "      <td>0</td>\n",
       "      <td>1</td>\n",
       "      <td>0</td>\n",
       "      <td>0</td>\n",
       "      <td>0</td>\n",
       "      <td>...</td>\n",
       "      <td>0</td>\n",
       "      <td>1</td>\n",
       "      <td>1</td>\n",
       "      <td>0</td>\n",
       "      <td>0</td>\n",
       "      <td>0</td>\n",
       "      <td>1</td>\n",
       "      <td>0</td>\n",
       "      <td>0</td>\n",
       "      <td>0</td>\n",
       "    </tr>\n",
       "    <tr>\n",
       "      <th>4</th>\n",
       "      <td>0</td>\n",
       "      <td>2</td>\n",
       "      <td>70.70</td>\n",
       "      <td>1</td>\n",
       "      <td>0</td>\n",
       "      <td>0</td>\n",
       "      <td>0</td>\n",
       "      <td>0</td>\n",
       "      <td>0</td>\n",
       "      <td>1</td>\n",
       "      <td>...</td>\n",
       "      <td>0</td>\n",
       "      <td>0</td>\n",
       "      <td>0</td>\n",
       "      <td>0</td>\n",
       "      <td>0</td>\n",
       "      <td>1</td>\n",
       "      <td>0</td>\n",
       "      <td>0</td>\n",
       "      <td>0</td>\n",
       "      <td>1</td>\n",
       "    </tr>\n",
       "  </tbody>\n",
       "</table>\n",
       "<p>5 rows × 23 columns</p>\n",
       "</div>"
      ],
      "text/plain": [
       "   SeniorCitizen  tenure  MonthlyCharges  Contract_Month-to-month  One year  \\\n",
       "0              0       1           29.85                        1         0   \n",
       "1              0      34           56.95                        0         1   \n",
       "2              0       2           53.85                        1         0   \n",
       "3              0      45           42.30                        0         1   \n",
       "4              0       2           70.70                        1         0   \n",
       "\n",
       "   Two year  gender  Partner  Dependents  PhoneService ...   OnlineBackup  \\\n",
       "0         0       0        1           0             0 ...              1   \n",
       "1         0       1        0           0             1 ...              0   \n",
       "2         0       1        0           0             1 ...              1   \n",
       "3         0       1        0           0             0 ...              0   \n",
       "4         0       0        0           0             1 ...              0   \n",
       "\n",
       "   DeviceProtection  TechSupport  StreamingTV  StreamingMovies  Churn  Male  \\\n",
       "0                 0            0            0                0      0     0   \n",
       "1                 1            0            0                0      0     1   \n",
       "2                 0            0            0                0      1     1   \n",
       "3                 1            1            0                0      0     1   \n",
       "4                 0            0            0                0      1     0   \n",
       "\n",
       "   Yes  Yes  Yes  \n",
       "0    1    0    0  \n",
       "1    0    0    1  \n",
       "2    0    0    1  \n",
       "3    0    0    0  \n",
       "4    0    0    1  \n",
       "\n",
       "[5 rows x 23 columns]"
      ]
     },
     "execution_count": 98,
     "metadata": {},
     "output_type": "execute_result"
    }
   ],
   "source": [
    "churn.head()"
   ]
  },
  {
   "cell_type": "code",
   "execution_count": 99,
   "metadata": {},
   "outputs": [
    {
     "name": "stdout",
     "output_type": "stream",
     "text": [
      "<class 'pandas.core.frame.DataFrame'>\n",
      "RangeIndex: 7043 entries, 0 to 7042\n",
      "Data columns (total 23 columns):\n",
      "SeniorCitizen              7043 non-null int64\n",
      "tenure                     7043 non-null int64\n",
      "MonthlyCharges             7043 non-null float64\n",
      "Contract_Month-to-month    7043 non-null uint8\n",
      "One year                   7043 non-null uint8\n",
      "Two year                   7043 non-null uint8\n",
      "gender                     7043 non-null uint8\n",
      "Partner                    7043 non-null uint8\n",
      "Dependents                 7043 non-null uint8\n",
      "PhoneService               7043 non-null uint8\n",
      "MultipleLines              7043 non-null uint8\n",
      "InternetService            7043 non-null uint8\n",
      "OnlineSecurity             7043 non-null uint8\n",
      "OnlineBackup               7043 non-null uint8\n",
      "DeviceProtection           7043 non-null uint8\n",
      "TechSupport                7043 non-null uint8\n",
      "StreamingTV                7043 non-null uint8\n",
      "StreamingMovies            7043 non-null uint8\n",
      "Churn                      7043 non-null uint8\n",
      "Male                       7043 non-null uint8\n",
      "Yes                        7043 non-null uint8\n",
      "Yes                        7043 non-null uint8\n",
      "Yes                        7043 non-null uint8\n",
      "dtypes: float64(1), int64(2), uint8(20)\n",
      "memory usage: 302.7 KB\n"
     ]
    }
   ],
   "source": [
    "churn.info()"
   ]
  },
  {
   "cell_type": "code",
   "execution_count": null,
   "metadata": {
    "collapsed": true
   },
   "outputs": [],
   "source": []
  },
  {
   "cell_type": "code",
   "execution_count": null,
   "metadata": {
    "collapsed": true
   },
   "outputs": [],
   "source": []
  },
  {
   "cell_type": "code",
   "execution_count": null,
   "metadata": {
    "collapsed": true
   },
   "outputs": [],
   "source": []
  },
  {
   "cell_type": "code",
   "execution_count": null,
   "metadata": {
    "collapsed": true
   },
   "outputs": [],
   "source": []
  },
  {
   "cell_type": "code",
   "execution_count": null,
   "metadata": {
    "collapsed": true
   },
   "outputs": [],
   "source": []
  },
  {
   "cell_type": "code",
   "execution_count": null,
   "metadata": {
    "collapsed": true
   },
   "outputs": [],
   "source": []
  },
  {
   "cell_type": "code",
   "execution_count": null,
   "metadata": {
    "collapsed": true
   },
   "outputs": [],
   "source": []
  }
 ],
 "metadata": {
  "kernelspec": {
   "display_name": "Python 3",
   "language": "python",
   "name": "python3"
  },
  "language_info": {
   "codemirror_mode": {
    "name": "ipython",
    "version": 3
   },
   "file_extension": ".py",
   "mimetype": "text/x-python",
   "name": "python",
   "nbconvert_exporter": "python",
   "pygments_lexer": "ipython3",
   "version": "3.6.3"
  }
 },
 "nbformat": 4,
 "nbformat_minor": 2
}
